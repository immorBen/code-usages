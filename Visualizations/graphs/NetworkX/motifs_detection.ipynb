{
 "cells": [
  {
   "cell_type": "markdown",
   "id": "28e9cba7",
   "metadata": {},
   "source": [
    "### Motifs detection by G-trie\n",
    "each co-authorship network generated from papers supported by a core project"
   ]
  },
  {
   "cell_type": "code",
   "execution_count": 1,
   "id": "5d07e50e",
   "metadata": {},
   "outputs": [
    {
     "data": {
      "text/plain": [
       "'/media/bentao/ecosystem_01'"
      ]
     },
     "execution_count": 1,
     "metadata": {},
     "output_type": "execute_result"
    }
   ],
   "source": [
    "import os\n",
    "os.getcwd()"
   ]
  },
  {
   "cell_type": "code",
   "execution_count": 2,
   "id": "8b9a96b6",
   "metadata": {},
   "outputs": [],
   "source": [
    "import matplotlib.pyplot as plt\n",
    "import pandas as pd\n",
    "import networkx as nx\n",
    "import json"
   ]
  },
  {
   "cell_type": "code",
   "execution_count": 3,
   "id": "7d5af459",
   "metadata": {},
   "outputs": [
    {
     "name": "stdout",
     "output_type": "stream",
     "text": [
      "148158\n"
     ]
    },
    {
     "data": {
      "text/html": [
       "<div>\n",
       "<style scoped>\n",
       "    .dataframe tbody tr th:only-of-type {\n",
       "        vertical-align: middle;\n",
       "    }\n",
       "\n",
       "    .dataframe tbody tr th {\n",
       "        vertical-align: top;\n",
       "    }\n",
       "\n",
       "    .dataframe thead th {\n",
       "        text-align: right;\n",
       "    }\n",
       "</style>\n",
       "<table border=\"1\" class=\"dataframe\">\n",
       "  <thead>\n",
       "    <tr style=\"text-align: right;\">\n",
       "      <th></th>\n",
       "      <th>CORE_PROJECT_NUM</th>\n",
       "      <th>Nodes</th>\n",
       "      <th>Edges</th>\n",
       "      <th>Nodes_lcc</th>\n",
       "      <th>Edges_lcc</th>\n",
       "      <th>avg_degree</th>\n",
       "      <th>avg_weighted_degree</th>\n",
       "      <th>density</th>\n",
       "      <th>avg_clus_coeff</th>\n",
       "      <th>weighted_avg_clus_coeff</th>\n",
       "    </tr>\n",
       "  </thead>\n",
       "  <tbody>\n",
       "    <tr>\n",
       "      <th>19907</th>\n",
       "      <td>K01DA039030</td>\n",
       "      <td>53</td>\n",
       "      <td>214</td>\n",
       "      <td>53</td>\n",
       "      <td>214</td>\n",
       "      <td>8.0755</td>\n",
       "      <td>3.5097</td>\n",
       "      <td>0.1553</td>\n",
       "      <td>0.8670</td>\n",
       "      <td>0.0385</td>\n",
       "    </tr>\n",
       "    <tr>\n",
       "      <th>48828</th>\n",
       "      <td>Z01AI000677</td>\n",
       "      <td>52</td>\n",
       "      <td>311</td>\n",
       "      <td>52</td>\n",
       "      <td>311</td>\n",
       "      <td>11.9615</td>\n",
       "      <td>1.5576</td>\n",
       "      <td>0.2345</td>\n",
       "      <td>0.9089</td>\n",
       "      <td>0.1197</td>\n",
       "    </tr>\n",
       "    <tr>\n",
       "      <th>33097</th>\n",
       "      <td>P01AM020586</td>\n",
       "      <td>59</td>\n",
       "      <td>161</td>\n",
       "      <td>48</td>\n",
       "      <td>150</td>\n",
       "      <td>5.4576</td>\n",
       "      <td>1.6611</td>\n",
       "      <td>0.0941</td>\n",
       "      <td>0.8240</td>\n",
       "      <td>0.0621</td>\n",
       "    </tr>\n",
       "  </tbody>\n",
       "</table>\n",
       "</div>"
      ],
      "text/plain": [
       "      CORE_PROJECT_NUM  Nodes  Edges  Nodes_lcc  Edges_lcc  avg_degree  \\\n",
       "19907      K01DA039030     53    214         53        214      8.0755   \n",
       "48828      Z01AI000677     52    311         52        311     11.9615   \n",
       "33097      P01AM020586     59    161         48        150      5.4576   \n",
       "\n",
       "       avg_weighted_degree  density  avg_clus_coeff  weighted_avg_clus_coeff  \n",
       "19907               3.5097   0.1553          0.8670                   0.0385  \n",
       "48828               1.5576   0.2345          0.9089                   0.1197  \n",
       "33097               1.6611   0.0941          0.8240                   0.0621  "
      ]
     },
     "execution_count": 3,
     "metadata": {},
     "output_type": "execute_result"
    }
   ],
   "source": [
    "met = pd.read_csv('/media/bentao/ecosystem_01/data/net_metrics/nets_metrics_merged.csv')\n",
    "print(met.shape[0])\n",
    "met.sample(3)"
   ]
  },
  {
   "cell_type": "code",
   "execution_count": 45,
   "id": "38c845c8",
   "metadata": {},
   "outputs": [
    {
     "data": {
      "text/html": [
       "<div>\n",
       "<style scoped>\n",
       "    .dataframe tbody tr th:only-of-type {\n",
       "        vertical-align: middle;\n",
       "    }\n",
       "\n",
       "    .dataframe tbody tr th {\n",
       "        vertical-align: top;\n",
       "    }\n",
       "\n",
       "    .dataframe thead th {\n",
       "        text-align: right;\n",
       "    }\n",
       "</style>\n",
       "<table border=\"1\" class=\"dataframe\">\n",
       "  <thead>\n",
       "    <tr style=\"text-align: right;\">\n",
       "      <th></th>\n",
       "      <th>CORE_PROJECT_NUM</th>\n",
       "      <th>Nodes</th>\n",
       "      <th>Edges</th>\n",
       "      <th>Nodes_lcc</th>\n",
       "      <th>Edges_lcc</th>\n",
       "      <th>avg_degree</th>\n",
       "      <th>avg_weighted_degree</th>\n",
       "      <th>density</th>\n",
       "      <th>avg_clus_coeff</th>\n",
       "      <th>weighted_avg_clus_coeff</th>\n",
       "    </tr>\n",
       "  </thead>\n",
       "  <tbody>\n",
       "    <tr>\n",
       "      <th>61472</th>\n",
       "      <td>N01MH080008</td>\n",
       "      <td>60</td>\n",
       "      <td>575</td>\n",
       "      <td>60</td>\n",
       "      <td>575</td>\n",
       "      <td>19.1667</td>\n",
       "      <td>3.9902</td>\n",
       "      <td>0.3249</td>\n",
       "      <td>0.8257</td>\n",
       "      <td>0.0522</td>\n",
       "    </tr>\n",
       "    <tr>\n",
       "      <th>124582</th>\n",
       "      <td>R01GM102203</td>\n",
       "      <td>60</td>\n",
       "      <td>267</td>\n",
       "      <td>50</td>\n",
       "      <td>222</td>\n",
       "      <td>8.9000</td>\n",
       "      <td>1.2834</td>\n",
       "      <td>0.1508</td>\n",
       "      <td>0.9458</td>\n",
       "      <td>0.0569</td>\n",
       "    </tr>\n",
       "    <tr>\n",
       "      <th>27180</th>\n",
       "      <td>R01DC014160</td>\n",
       "      <td>60</td>\n",
       "      <td>711</td>\n",
       "      <td>45</td>\n",
       "      <td>606</td>\n",
       "      <td>23.7000</td>\n",
       "      <td>1.0165</td>\n",
       "      <td>0.4017</td>\n",
       "      <td>0.9824</td>\n",
       "      <td>0.0979</td>\n",
       "    </tr>\n",
       "    <tr>\n",
       "      <th>125306</th>\n",
       "      <td>R01HL070628</td>\n",
       "      <td>60</td>\n",
       "      <td>278</td>\n",
       "      <td>60</td>\n",
       "      <td>278</td>\n",
       "      <td>9.2667</td>\n",
       "      <td>1.5834</td>\n",
       "      <td>0.1571</td>\n",
       "      <td>0.8859</td>\n",
       "      <td>0.1081</td>\n",
       "    </tr>\n",
       "    <tr>\n",
       "      <th>40020</th>\n",
       "      <td>U13HS019564</td>\n",
       "      <td>60</td>\n",
       "      <td>204</td>\n",
       "      <td>37</td>\n",
       "      <td>132</td>\n",
       "      <td>6.8000</td>\n",
       "      <td>1.0667</td>\n",
       "      <td>0.1153</td>\n",
       "      <td>0.9147</td>\n",
       "      <td>0.1035</td>\n",
       "    </tr>\n",
       "  </tbody>\n",
       "</table>\n",
       "</div>"
      ],
      "text/plain": [
       "       CORE_PROJECT_NUM  Nodes  Edges  Nodes_lcc  Edges_lcc  avg_degree  \\\n",
       "61472       N01MH080008     60    575         60        575     19.1667   \n",
       "124582      R01GM102203     60    267         50        222      8.9000   \n",
       "27180       R01DC014160     60    711         45        606     23.7000   \n",
       "125306      R01HL070628     60    278         60        278      9.2667   \n",
       "40020       U13HS019564     60    204         37        132      6.8000   \n",
       "\n",
       "        avg_weighted_degree  density  avg_clus_coeff  weighted_avg_clus_coeff  \n",
       "61472                3.9902   0.3249          0.8257                   0.0522  \n",
       "124582               1.2834   0.1508          0.9458                   0.0569  \n",
       "27180                1.0165   0.4017          0.9824                   0.0979  \n",
       "125306               1.5834   0.1571          0.8859                   0.1081  \n",
       "40020                1.0667   0.1153          0.9147                   0.1035  "
      ]
     },
     "execution_count": 45,
     "metadata": {},
     "output_type": "execute_result"
    }
   ],
   "source": [
    "met[met.Nodes == 60].sample(5)"
   ]
  },
  {
   "cell_type": "code",
   "execution_count": 54,
   "id": "1507c356",
   "metadata": {},
   "outputs": [
    {
     "data": {
      "text/html": [
       "<div>\n",
       "<style scoped>\n",
       "    .dataframe tbody tr th:only-of-type {\n",
       "        vertical-align: middle;\n",
       "    }\n",
       "\n",
       "    .dataframe tbody tr th {\n",
       "        vertical-align: top;\n",
       "    }\n",
       "\n",
       "    .dataframe thead th {\n",
       "        text-align: right;\n",
       "    }\n",
       "</style>\n",
       "<table border=\"1\" class=\"dataframe\">\n",
       "  <thead>\n",
       "    <tr style=\"text-align: right;\">\n",
       "      <th></th>\n",
       "      <th>Nodes</th>\n",
       "      <th>density</th>\n",
       "    </tr>\n",
       "  </thead>\n",
       "  <tbody>\n",
       "    <tr>\n",
       "      <th>count</th>\n",
       "      <td>148158.000000</td>\n",
       "      <td>148158.000000</td>\n",
       "    </tr>\n",
       "    <tr>\n",
       "      <th>mean</th>\n",
       "      <td>119.592226</td>\n",
       "      <td>0.228218</td>\n",
       "    </tr>\n",
       "    <tr>\n",
       "      <th>std</th>\n",
       "      <td>395.048912</td>\n",
       "      <td>0.146918</td>\n",
       "    </tr>\n",
       "    <tr>\n",
       "      <th>min</th>\n",
       "      <td>2.000000</td>\n",
       "      <td>0.001300</td>\n",
       "    </tr>\n",
       "    <tr>\n",
       "      <th>25%</th>\n",
       "      <td>28.000000</td>\n",
       "      <td>0.121900</td>\n",
       "    </tr>\n",
       "    <tr>\n",
       "      <th>50%</th>\n",
       "      <td>50.000000</td>\n",
       "      <td>0.200900</td>\n",
       "    </tr>\n",
       "    <tr>\n",
       "      <th>75%</th>\n",
       "      <td>99.000000</td>\n",
       "      <td>0.300300</td>\n",
       "    </tr>\n",
       "    <tr>\n",
       "      <th>max</th>\n",
       "      <td>54181.000000</td>\n",
       "      <td>1.000000</td>\n",
       "    </tr>\n",
       "  </tbody>\n",
       "</table>\n",
       "</div>"
      ],
      "text/plain": [
       "               Nodes        density\n",
       "count  148158.000000  148158.000000\n",
       "mean      119.592226       0.228218\n",
       "std       395.048912       0.146918\n",
       "min         2.000000       0.001300\n",
       "25%        28.000000       0.121900\n",
       "50%        50.000000       0.200900\n",
       "75%        99.000000       0.300300\n",
       "max     54181.000000       1.000000"
      ]
     },
     "execution_count": 54,
     "metadata": {},
     "output_type": "execute_result"
    }
   ],
   "source": [
    "met[['Nodes', 'density']].describe()"
   ]
  },
  {
   "cell_type": "code",
   "execution_count": 70,
   "id": "fc347922",
   "metadata": {},
   "outputs": [],
   "source": [
    "kk = ['R01DA022386', 'UH2TR000960', 'R01MH068469', 'U01AI075641',\n",
    "      'R01CA038921', 'U10HD019897', 'P20MD004811', 'R01DA008163',\n",
    "      'R00DA032681', 'U01HL054485', 'R01ES007062', 'S10OD016361',\n",
    "      'R01DK085516', 'T32NS062443', 'U01NS052220', 'R01DA035923',\n",
    "      'T32ES007267']\n",
    "spring = ['R56AI091832', 'R01GM092660', 'U01DK085649', 'U01NS044364',\n",
    "          'R01NS020147', 'R01AI065335', 'R01CA124924', 'Z01DE000695',\n",
    "          'P01AG051449', 'K08DK100638', 'R01HG004160']\n",
    "\n",
    "all_bad = ['R01ES021446', 'T32GM095450', 'P50AR054083', 'U01NS052220']"
   ]
  },
  {
   "cell_type": "code",
   "execution_count": 58,
   "id": "da60130b",
   "metadata": {},
   "outputs": [
    {
     "name": "stdout",
     "output_type": "stream",
     "text": [
      "54514    ZIAES102385\n",
      "78401    T32ES007267\n",
      "86690    R01DA035923\n",
      "29994    U01NS052220\n",
      "89355    P50AR054083\n",
      "Name: CORE_PROJECT_NUM, dtype: object\n"
     ]
    }
   ],
   "source": [
    "df = met[met.Nodes == 160].sample(5)\n",
    "print(df.CORE_PROJECT_NUM)\n",
    "for proj in df.CORE_PROJECT_NUM:\n",
    "# proj = 'U13HS019564'\n",
    "    g = load_net(proj)\n",
    "    mapping, h = transform_net(g)\n",
    "    store_map(mapping, proj)\n",
    "    plt_fig_spring(h, proj)\n",
    "    plt_fig_kamk(h, proj)"
   ]
  },
  {
   "cell_type": "code",
   "execution_count": 13,
   "id": "b65e19ad",
   "metadata": {},
   "outputs": [],
   "source": [
    "net_path = './data/coau_nets/pajek/'\n",
    "input_path = './motif_detection/gtrie/proj_coau/'\n",
    "motif_path = './motif_detection/gtrie/motifs/'\n",
    "node_motif_path = './motif_detection/gtrie/node-motif/'\n",
    "map_path = './motif_detection/mappings/'\n",
    "fig_path = './motif_detection/graph_figs/'"
   ]
  },
  {
   "cell_type": "code",
   "execution_count": 24,
   "id": "230ff166",
   "metadata": {},
   "outputs": [],
   "source": [
    "def load_net(proj):\n",
    "    g = nx.read_pajek(net_path+proj+'.net')\n",
    "    return g\n",
    "\n",
    "def store_map(mp, proj):\n",
    "    with open(map_path+proj+'.json', 'w') as write_js:\n",
    "        json.dump(mp, write_js)\n",
    "    \n",
    "def transform_net(g):\n",
    "    mapping = {}\n",
    "    i = 1\n",
    "    for n in g.nodes():\n",
    "        mapping[n] = i\n",
    "        i += 1\n",
    "\n",
    "    h = nx.relabel_nodes(g, mapping)\n",
    "    \n",
    "    return mapping, h\n",
    "\n",
    "def plt_fig_spring(h, proj):\n",
    "    fig = plt.figure(figsize=(5,5))\n",
    "    ax = fig.add_subplot(111)\n",
    "    ns = 15\n",
    "\n",
    "    pos = nx.spring_layout(h, scale=1, iterations=200)\n",
    "    nx.draw_networkx_nodes(h, pos=pos, node_size=ns)\n",
    "    nx.draw_networkx_edges(h, pos=pos, edge_color='g', alpha=.2)\n",
    "    \n",
    "    \n",
    "    plt.savefig(fig_path+proj+'.png', dpi=300, bbox_inches='tight',\n",
    "                pad_inches=0)\n",
    "    plt.close(fig)\n",
    "\n",
    "# kamada_kawai results in better layout when the graph density is lower than 0.1(0.11)\n",
    "# but when the number of graph node is at hundreds level, it performs less well\n",
    "# and often, larger graphs are likely to have lower density, e.g., R01GM121317 (500 nodes, d=0.08)\n",
    "# U01HG004608 (800 nodes, d=0.07)\n",
    "# with spring layout, you can see clearer clusters, while kamada layout produces less \n",
    "# straitforward ones\n",
    "\n",
    "# when there are un-connected components in a graph, kamada layout outperforms the spring\n",
    "def plt_fig_kamk(h, proj):\n",
    "    fig = plt.figure(figsize=(5,5))\n",
    "    ax = fig.add_subplot(111)\n",
    "    ns = 15\n",
    "\n",
    "    pos = nx.kamada_kawai_layout(h, scale=1.5)\n",
    "    nx.draw_networkx_nodes(h, pos=pos, node_size=ns)\n",
    "    nx.draw_networkx_edges(h, pos=pos, edge_color='g', alpha=.2)\n",
    "    \n",
    "#     plt.close(fig)\n",
    "    plt.savefig(fig_path+proj+'kk.png', dpi=300, bbox_inches='tight',\n",
    "                pad_inches=0)\n",
    "    plt.close(fig)\n",
    "\n",
    "# proj = 'R01AG022559'\n",
    "# g = load_net(proj)\n",
    "# mapping, h = transform_net(g)\n",
    "# store_map(mapping, proj)\n",
    "# plt_fig_spring(h, proj)\n",
    "# plt_fig_kamk(h, proj)"
   ]
  },
  {
   "cell_type": "code",
   "execution_count": 68,
   "id": "855b5f43",
   "metadata": {},
   "outputs": [
    {
     "data": {
      "text/plain": [
       "2.0"
      ]
     },
     "execution_count": 68,
     "metadata": {},
     "output_type": "execute_result"
    }
   ],
   "source": [
    "import math\n",
    "math.sqrt(4)"
   ]
  },
  {
   "cell_type": "code",
   "execution_count": 71,
   "id": "55be19f5",
   "metadata": {},
   "outputs": [],
   "source": [
    "nlist = []\n",
    "for proj in kk:\n",
    "    g = nx.read_pajek(net_path+proj+'.net')\n",
    "\n",
    "    # relabel nodes\n",
    "    mapping = {}\n",
    "    i = 1\n",
    "    for n in g.nodes():\n",
    "        mapping[n] = i\n",
    "        i += 1\n",
    "\n",
    "    h = nx.relabel_nodes(g, mapping)\n",
    "    \n",
    "    n = h.number_of_nodes()\n",
    "    nlist.append(round(1/math.sqrt(n), 4))"
   ]
  },
  {
   "cell_type": "code",
   "execution_count": 72,
   "id": "ea95cc22",
   "metadata": {},
   "outputs": [
    {
     "data": {
      "text/plain": [
       "[0.1414,\n",
       " 0.1414,\n",
       " 0.1291,\n",
       " 0.1291,\n",
       " 0.1195,\n",
       " 0.1195,\n",
       " 0.1195,\n",
       " 0.1054,\n",
       " 0.1,\n",
       " 0.1,\n",
       " 0.0953,\n",
       " 0.0913,\n",
       " 0.0845,\n",
       " 0.0816,\n",
       " 0.0791,\n",
       " 0.0791,\n",
       " 0.0791]"
      ]
     },
     "execution_count": 72,
     "metadata": {},
     "output_type": "execute_result"
    }
   ],
   "source": [
    "nlist"
   ]
  },
  {
   "cell_type": "code",
   "execution_count": null,
   "id": "0c41bbbd",
   "metadata": {},
   "outputs": [],
   "source": [
    "kk = ['R01DA022386', 'UH2TR000960', 'R01MH068469', 'U01AI075641',\n",
    "      'R01CA038921', 'U10HD019897', 'P20MD004811', 'R01DA008163',\n",
    "      'R00DA032681', 'U01HL054485', 'R01ES007062', 'S10OD016361',\n",
    "      'R01DK085516', 'T32NS062443', 'U01NS052220', 'R01DA035923',\n",
    "      'T32ES007267']"
   ]
  },
  {
   "cell_type": "code",
   "execution_count": 89,
   "id": "ef24dde5",
   "metadata": {},
   "outputs": [
    {
     "data": {
      "image/png": "[encoded data removed]",
      "text/plain": [
       "<Figure size 360x360 with 1 Axes>"
      ]
     },
     "metadata": {},
     "output_type": "display_data"
    }
   ],
   "source": [
    "# net_path = '/media/bentao/ecosystem_01/data/coau_nets/pajek/'\n",
    "proj = 'U01NS052220'\n",
    "g = nx.read_pajek(net_path+proj+'.net')\n",
    "\n",
    "# relabel nodes\n",
    "mapping = {}\n",
    "i = 1\n",
    "for n in g.nodes():\n",
    "    mapping[n] = i\n",
    "    i += 1\n",
    "    \n",
    "h = nx.relabel_nodes(g, mapping)\n",
    "\n",
    "fig = plt.figure(figsize=(5,5))\n",
    "ax = fig.add_subplot(111)\n",
    "ns = 15\n",
    "\n",
    "pos = nx.spring_layout(h, k=.2, scale=1.5)\n",
    "nx.draw_networkx_nodes(h, pos=pos, node_size=ns)\n",
    "nx.draw_networkx_edges(h, pos=pos, edge_color='g', alpha=.2)\n",
    "plt.show()\n",
    "# plt.savefig(fig_path+proj+'kk.png', dpi=300, bbox_inches='tight',\n",
    "#             pad_inches=0)\n"
   ]
  },
  {
   "cell_type": "code",
   "execution_count": 96,
   "id": "9b7595f6",
   "metadata": {},
   "outputs": [
    {
     "name": "stdout",
     "output_type": "stream",
     "text": [
      "\u001b[01;34m/home/bentao/Desktop/Visualizations/\u001b[00m\r\n",
      "└── \u001b[01;34mgraphs\u001b[00m\r\n",
      "    └── \u001b[01;34mNetworkX\u001b[00m\r\n",
      "\r\n",
      "2 directories, 0 files\r\n"
     ]
    }
   ],
   "source": [
    "! tree /home/bentao/Desktop/Visualizations/"
   ]
  },
  {
   "cell_type": "code",
   "execution_count": 4,
   "id": "a7984b03",
   "metadata": {},
   "outputs": [],
   "source": [
    "proj = 'R01AG022559'\n",
    "g = nx.read_pajek(net_path+proj+'.net')\n",
    "\n",
    "# relabel nodes\n",
    "mapping = {}\n",
    "i = 1\n",
    "for n in g.nodes():\n",
    "    mapping[n] = i\n",
    "    i += 1\n",
    "    \n",
    "h = nx.relabel_nodes(g, mapping)\n",
    "\n",
    "# # write network in G-Trie input format\n",
    "# input_path = '/home/bentao/Desktop/gtrie/gtrieScanner_src_01/'\n",
    "# with open(input_path+proj+'.txt', 'wb') as fr:\n",
    "#     nx.write_edgelist(h, fr, data=False)"
   ]
  },
  {
   "cell_type": "code",
   "execution_count": 12,
   "id": "a020efc1",
   "metadata": {},
   "outputs": [],
   "source": [
    "! mkdir /media/bentao/ecosystem_01/motif_detection/graph_figs"
   ]
  },
  {
   "cell_type": "code",
   "execution_count": 7,
   "id": "c0d717b7",
   "metadata": {},
   "outputs": [],
   "source": [
    "with open('./motif_detection/mappings/'+proj+'.json', 'w') as write_js:\n",
    "    json.dump(mapping, write_js)"
   ]
  },
  {
   "cell_type": "code",
   "execution_count": 8,
   "id": "948f7ee5",
   "metadata": {},
   "outputs": [],
   "source": [
    "with open('./motif_detection/mappings/'+proj+'.json') as load_js:\n",
    "    dic = json.load(load_js)"
   ]
  },
  {
   "cell_type": "code",
   "execution_count": 9,
   "id": "18c0be8f",
   "metadata": {},
   "outputs": [
    {
     "data": {
      "text/plain": [
       "dict"
      ]
     },
     "execution_count": 9,
     "metadata": {},
     "output_type": "execute_result"
    }
   ],
   "source": [
    "type(dic)"
   ]
  },
  {
   "cell_type": "code",
   "execution_count": 10,
   "id": "708d780d",
   "metadata": {
    "scrolled": true
   },
   "outputs": [
    {
     "data": {
      "text/plain": [
       "{'9648030': 1,\n",
       " '2541700': 2,\n",
       " '1273740': 3,\n",
       " '675592': 4,\n",
       " '9955297': 5,\n",
       " '9955295': 6,\n",
       " '3671002': 7,\n",
       " '10139016': 8,\n",
       " '229887': 9,\n",
       " '1424454': 10,\n",
       " '294412': 11,\n",
       " '7522241': 12,\n",
       " '225726': 13,\n",
       " '2150149': 14,\n",
       " '357177': 15,\n",
       " '10449621': 16,\n",
       " '10449622': 17,\n",
       " '10449623': 18,\n",
       " '9955296': 19,\n",
       " '4386380': 20,\n",
       " '7503615': 21,\n",
       " '5037194': 22,\n",
       " '6365228': 23,\n",
       " '2702787': 24,\n",
       " '7631240': 25,\n",
       " '5136744': 26,\n",
       " '2611345': 27,\n",
       " '8008152': 28,\n",
       " '4325358': 29,\n",
       " '2427343': 30,\n",
       " '9456481': 31,\n",
       " '7631382': 32,\n",
       " '9456482': 33,\n",
       " '7122644': 34,\n",
       " '9032312': 35,\n",
       " '1417661': 36,\n",
       " '2838563': 37,\n",
       " '1978839': 38,\n",
       " '3354513': 39,\n",
       " '8692224': 40,\n",
       " '6706802': 41,\n",
       " '2124226': 42,\n",
       " '3021366': 43,\n",
       " '765262': 44,\n",
       " '1956623': 45,\n",
       " '4492034': 46,\n",
       " '9454275': 47,\n",
       " '2408956': 48,\n",
       " '10057152': 49,\n",
       " '12096117': 50}"
      ]
     },
     "execution_count": 10,
     "metadata": {},
     "output_type": "execute_result"
    }
   ],
   "source": [
    "dic"
   ]
  }
 ],
 "metadata": {
  "kernelspec": {
   "display_name": "Python 3 (ipykernel)",
   "language": "python",
   "name": "python3"
  },
  "language_info": {
   "codemirror_mode": {
    "name": "ipython",
    "version": 3
   },
   "file_extension": ".py",
   "mimetype": "text/x-python",
   "name": "python",
   "nbconvert_exporter": "python",
   "pygments_lexer": "ipython3",
   "version": "3.9.7"
  }
 },
 "nbformat": 4,
 "nbformat_minor": 5
}
